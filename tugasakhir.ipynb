{
 "cells": [
  {
   "cell_type": "code",
   "execution_count": 1,
   "metadata": {},
   "outputs": [
    {
     "name": "stderr",
     "output_type": "stream",
     "text": [
      "[ERROR:0@0.008] global persistence.cpp:512 open Can't open file: 'haarcascade_eye.xml' in read mode\n",
      "2023-12-08 18:53:08.040 Python[34158:917723] WARNING: AVCaptureDeviceTypeExternal is deprecated for Continuity Cameras. Please use AVCaptureDeviceTypeContinuityCamera and add NSCameraUseContinuityCameraDeviceType to your Info.plist.\n"
     ]
    },
    {
     "ename": "error",
     "evalue": "OpenCV(4.8.1) /Users/xperience/GHA-OpenCV-Python/_work/opencv-python/opencv-python/opencv/modules/imgproc/src/color.cpp:182: error: (-215:Assertion failed) !_src.empty() in function 'cvtColor'\n",
     "output_type": "error",
     "traceback": [
      "\u001b[0;31m---------------------------------------------------------------------------\u001b[0m",
      "\u001b[0;31merror\u001b[0m                                     Traceback (most recent call last)",
      "Cell \u001b[0;32mIn[1], line 13\u001b[0m\n\u001b[1;32m     11\u001b[0m \u001b[38;5;28;01mwhile\u001b[39;00m \u001b[38;5;28;01mTrue\u001b[39;00m:\n\u001b[1;32m     12\u001b[0m     _, frame \u001b[38;5;241m=\u001b[39m camera\u001b[38;5;241m.\u001b[39mread()\n\u001b[0;32m---> 13\u001b[0m     gray \u001b[38;5;241m=\u001b[39m \u001b[43mcv2\u001b[49m\u001b[38;5;241;43m.\u001b[39;49m\u001b[43mcvtColor\u001b[49m\u001b[43m(\u001b[49m\u001b[43mframe\u001b[49m\u001b[43m,\u001b[49m\u001b[43m \u001b[49m\u001b[43mcv2\u001b[49m\u001b[38;5;241;43m.\u001b[39;49m\u001b[43mCOLOR_BGR2GRAY\u001b[49m\u001b[43m)\u001b[49m\n\u001b[1;32m     14\u001b[0m     detect\u001b[38;5;241m=\u001b[39m classifier\u001b[38;5;241m.\u001b[39mdetectMultiScale(gray)\n\u001b[1;32m     15\u001b[0m     \u001b[38;5;66;03m# scaleFactor = 2.5,\u001b[39;00m\n\u001b[1;32m     16\u001b[0m     \u001b[38;5;66;03m# minNeighbors = 5,\u001b[39;00m\n\u001b[1;32m     17\u001b[0m     \u001b[38;5;66;03m# maxSize=(50,50),\u001b[39;00m\n\u001b[1;32m     18\u001b[0m     \u001b[38;5;66;03m#  )\u001b[39;00m\n\u001b[1;32m     19\u001b[0m \n\u001b[1;32m     20\u001b[0m     \u001b[38;5;66;03m# buat kotakan di koordinat wajah terdeteksi\u001b[39;00m\n",
      "\u001b[0;31merror\u001b[0m: OpenCV(4.8.1) /Users/xperience/GHA-OpenCV-Python/_work/opencv-python/opencv-python/opencv/modules/imgproc/src/color.cpp:182: error: (-215:Assertion failed) !_src.empty() in function 'cvtColor'\n"
     ]
    }
   ],
   "source": [
    "import cv2\n",
    "\n",
    "# cascade yang mau di detect ( ex : frontal face, eye, dll )\n",
    "file_path= 'haarcascade_eye.xml'\n",
    "classifier= cv2.CascadeClassifier(file_path)\n",
    "\n",
    "# konek ke cam laptop (0 - default_cam, 1, 2)\n",
    "camera = cv2.VideoCapture(0)\n",
    "\n",
    "# endless loop\n",
    "while True:\n",
    "    _, frame = camera.read()\n",
    "    gray = cv2.cvtColor(frame, cv2.COLOR_BGR2GRAY)\n",
    "    detect= classifier.detectMultiScale(gray)\n",
    "    # scaleFactor = 2.5,\n",
    "    # minNeighbors = 5,\n",
    "    # maxSize=(50,50),\n",
    "    #  )\n",
    "\n",
    "    # buat kotakan di koordinat wajah terdeteksi\n",
    "    for x, y, w, h in detect:\n",
    "        cv2.rectangle(\n",
    "        frame,\n",
    "        (x,y),\n",
    "        (x+w, y+h),\n",
    "        (100, 100, 0),  #BGR\n",
    "        2, #thickness\n",
    "        )\n",
    "\n",
    "    # Menampilkan gambar dengan kotak deteksi\n",
    "    cv2.imshow('Object', frame)\n",
    "\n",
    "    if cv2.waitKey(1)== ord(\"q\"):\n",
    "        break\n",
    "\n",
    "camera.release()"
   ]
  }
 ],
 "metadata": {
  "kernelspec": {
   "display_name": "Python 3",
   "language": "python",
   "name": "python3"
  },
  "language_info": {
   "codemirror_mode": {
    "name": "ipython",
    "version": 3
   },
   "file_extension": ".py",
   "mimetype": "text/x-python",
   "name": "python",
   "nbconvert_exporter": "python",
   "pygments_lexer": "ipython3",
   "version": "3.12.0"
  }
 },
 "nbformat": 4,
 "nbformat_minor": 2
}
